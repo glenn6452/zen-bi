{
 "cells": [
  {
   "cell_type": "code",
   "execution_count": 19,
   "metadata": {},
   "outputs": [],
   "source": [
    "#Consolidation\n",
    "from pydrive.auth import GoogleAuth\n",
    "from pydrive.drive import GoogleDrive\n",
    "import os\n",
    "import pandas as pd\n",
    "\n",
    "gauth = GoogleAuth()\n",
    "gauth.LocalWebserverAuth() # Creates local webserver and auto handles authentication.\n",
    "drive = GoogleDrive(gauth)"
   ]
  },
  {
   "cell_type": "code",
   "execution_count": 20,
   "metadata": {},
   "outputs": [],
   "source": [
    "drive = GoogleDrive(gauth)"
   ]
  },
  {
   "cell_type": "code",
   "execution_count": 21,
   "metadata": {},
   "outputs": [],
   "source": [
    "# choose a local (colab) directory to store the data.\n",
    "local_download_path = os.path.expanduser('drive/My Drive/Conso/')\n",
    "try:\n",
    "  os.makedirs(local_download_path)\n",
    "except: pass\n",
    "\n",
    "# 2. Auto-iterate using the query syntax\n",
    "#    https://developers.google.com/drive/v2/web/search-parameters\n",
    "\n",
    "file_list = drive.ListFile(\n",
    "    {'q': \"'1oOMl4eFnt4f8e1jNiNBzKLpLv3wdNLSE' in parents\"}).GetList()\n",
    "\n",
    "#file_list = file\n",
    "\n",
    "#id_touse = folder_list[0]['id']\n",
    "#\n",
    "#file_list = drive.ListFile(\n",
    "#    {'q': (\"\\'\"  + id_touse + \"\\' in parents\")}).GetList()"
   ]
  },
  {
   "cell_type": "code",
   "execution_count": null,
   "metadata": {},
   "outputs": [],
   "source": []
  },
  {
   "cell_type": "code",
   "execution_count": 22,
   "metadata": {
    "scrolled": false
   },
   "outputs": [],
   "source": [
    "file = []\n",
    "for f in file_list:\n",
    "  if f['id'] == '1auThKC1m8VhPAr0IsR2CDUaAAC46_B7Qu9Si0DBs3JI':\n",
    "    file.append(f)\n",
    "  else:\n",
    "    None\n",
    "#file"
   ]
  },
  {
   "cell_type": "code",
   "execution_count": 23,
   "metadata": {},
   "outputs": [],
   "source": [
    "#pd.DataFrame(folder_list)"
   ]
  },
  {
   "cell_type": "code",
   "execution_count": 24,
   "metadata": {},
   "outputs": [],
   "source": [
    "#pd.read_excel()"
   ]
  },
  {
   "cell_type": "code",
   "execution_count": 25,
   "metadata": {},
   "outputs": [],
   "source": [
    "#mimetypes = {\n",
    "#        # Drive Document files as PDF\n",
    "#        'application/vnd.google-apps.document': 'application/pdf',\n",
    "#\n",
    "#        # Drive Sheets files as MS Excel files.\n",
    "#        'application/vnd.google-apps.spreadsheet': 'application/vnd.openxmlformats-officedocument.spreadsheetml.sheet'\n",
    "#\n",
    "#    # see https://developers.google.com/drive/v3/web/mime-types\n",
    "#    }\n",
    "#\n",
    "#\n",
    "#file = ['TrialBalance']\n",
    "#for f in file_list:\n",
    "#  # 3. Create & download by id.\n",
    "#  print('title: %s, id: %s' % (f['title'], f['id']))\n",
    "#  fname = os.path.join(local_download_path, f['title'])\n",
    "#  print('downloading to {}'.format(fname))\n",
    "#  f_ = drive.CreateFile({'id': '1auThKC1m8VhPAr0IsR2CDUaAAC46_B7Qu9Si0DBs3JI'})\n",
    "#  f_.GetContentFile(fname)\n",
    "#  files.append(fname)\n",
    "#\n",
    "##files.remove('drive/My Drive/Reviews/Promo Codes - Last view used.xlsx')"
   ]
  },
  {
   "cell_type": "code",
   "execution_count": 26,
   "metadata": {},
   "outputs": [
    {
     "name": "stdout",
     "output_type": "stream",
     "text": [
      "TrialBalance\n",
      "title: TrialBalance, mimeType: application/vnd.google-apps.spreadsheet\n"
     ]
    }
   ],
   "source": [
    "for item in file:\n",
    "    print(item['title'])\n",
    "    # this should tell you which mimetype the file you're trying to download \n",
    "    # has. \n",
    "    print('title: %s, mimeType: %s' % (item['title'], item['mimeType']))\n",
    "    mimetypes = {\n",
    "        # Drive Document files as PDF\n",
    "        'application/vnd.google-apps.document': 'application/pdf',\n",
    "\n",
    "        # Drive Sheets files as MS Excel files.\n",
    "        'application/vnd.google-apps.spreadsheet': 'application/vnd.openxmlformats-officedocument.spreadsheetml.sheet'\n",
    "\n",
    "    # see https://developers.google.com/drive/v3/web/mim0e-types\n",
    "    }\n",
    "    download_mimetype = None\n",
    "    if item['mimeType'] in mimetypes:\n",
    "        download_mimetype = mimetypes[item['mimeType']]\n",
    "        item.GetContentFile(os.path.join(local_download_path,item['title']+'.xlsx'), mimetype=download_mimetype)\n",
    "\n",
    "        #item.GetContentFile(item['title'], mimetype=download_mimetype)\n",
    "    else: \n",
    "        item.GetContentFile(os.path.join(local_download_path,item['title']))"
   ]
  },
  {
   "cell_type": "code",
   "execution_count": 27,
   "metadata": {},
   "outputs": [],
   "source": [
    "#files"
   ]
  },
  {
   "cell_type": "code",
   "execution_count": 28,
   "metadata": {},
   "outputs": [],
   "source": [
    "#appended_data = []\n",
    "#for infile in files:\n",
    "#    data = pd.read_excel(infile)\n",
    "#    # store DataFrame in list\n",
    "#    appended_data.append(data)\n",
    "## see pd.concat documentation for more info\n",
    "#appended_data = pd.concat(appended_data)\n",
    "## write DataFrame to an excel sheet \n",
    "##appended_data.to_excel('drive/My Drive/Reviews_Final/Merged_Reviews.xlsx')"
   ]
  },
  {
   "cell_type": "code",
   "execution_count": 29,
   "metadata": {},
   "outputs": [],
   "source": [
    "xls = pd.ExcelFile(os.path.join(local_download_path,'TrialBalance.xlsx'))"
   ]
  },
  {
   "cell_type": "code",
   "execution_count": 30,
   "metadata": {},
   "outputs": [],
   "source": [
    "sheets = xls.sheet_names"
   ]
  },
  {
   "cell_type": "code",
   "execution_count": 31,
   "metadata": {},
   "outputs": [],
   "source": [
    "dfs = []\n",
    "for i in range(len(sheets)):\n",
    "    globals()['df'+str(i)] = pd.read_excel(xls,sheets[i])\n",
    "    dfs.append(('df'+str(i),sheets[i]))\n",
    "    \n",
    "\n",
    "#df1 = pd.read_excel(xls, 'Sheet1')\n",
    "#df2 = pd.read_excel(xls, 'Sheet2')"
   ]
  },
  {
   "cell_type": "code",
   "execution_count": 32,
   "metadata": {},
   "outputs": [
    {
     "data": {
      "text/html": [
       "<div>\n",
       "<style scoped>\n",
       "    .dataframe tbody tr th:only-of-type {\n",
       "        vertical-align: middle;\n",
       "    }\n",
       "\n",
       "    .dataframe tbody tr th {\n",
       "        vertical-align: top;\n",
       "    }\n",
       "\n",
       "    .dataframe thead th {\n",
       "        text-align: right;\n",
       "    }\n",
       "</style>\n",
       "<table border=\"1\" class=\"dataframe\">\n",
       "  <thead>\n",
       "    <tr style=\"text-align: right;\">\n",
       "      <th></th>\n",
       "      <th>dfs</th>\n",
       "      <th>sheets</th>\n",
       "    </tr>\n",
       "  </thead>\n",
       "  <tbody>\n",
       "    <tr>\n",
       "      <th>0</th>\n",
       "      <td>df0</td>\n",
       "      <td>TBALL old</td>\n",
       "    </tr>\n",
       "    <tr>\n",
       "      <th>1</th>\n",
       "      <td>df1</td>\n",
       "      <td>Forex</td>\n",
       "    </tr>\n",
       "    <tr>\n",
       "      <th>2</th>\n",
       "      <td>df2</td>\n",
       "      <td>SharesFx</td>\n",
       "    </tr>\n",
       "    <tr>\n",
       "      <th>3</th>\n",
       "      <td>df3</td>\n",
       "      <td>ZRHolding</td>\n",
       "    </tr>\n",
       "    <tr>\n",
       "      <th>4</th>\n",
       "      <td>df4</td>\n",
       "      <td>TrialBalance_TH</td>\n",
       "    </tr>\n",
       "    <tr>\n",
       "      <th>5</th>\n",
       "      <td>df5</td>\n",
       "      <td>TrialBalance_MY</td>\n",
       "    </tr>\n",
       "    <tr>\n",
       "      <th>6</th>\n",
       "      <td>df6</td>\n",
       "      <td>TrialBalance_PH</td>\n",
       "    </tr>\n",
       "    <tr>\n",
       "      <th>7</th>\n",
       "      <td>df7</td>\n",
       "      <td>TrialBalance_SG</td>\n",
       "    </tr>\n",
       "    <tr>\n",
       "      <th>8</th>\n",
       "      <td>df8</td>\n",
       "      <td>ICElim</td>\n",
       "    </tr>\n",
       "    <tr>\n",
       "      <th>9</th>\n",
       "      <td>df9</td>\n",
       "      <td>EUR SharesFx</td>\n",
       "    </tr>\n",
       "    <tr>\n",
       "      <th>10</th>\n",
       "      <td>df10</td>\n",
       "      <td>ICElim (For Matrix)</td>\n",
       "    </tr>\n",
       "    <tr>\n",
       "      <th>11</th>\n",
       "      <td>df11</td>\n",
       "      <td>AgedAP</td>\n",
       "    </tr>\n",
       "    <tr>\n",
       "      <th>12</th>\n",
       "      <td>df12</td>\n",
       "      <td>AgedAR</td>\n",
       "    </tr>\n",
       "    <tr>\n",
       "      <th>13</th>\n",
       "      <td>df13</td>\n",
       "      <td>FXTA</td>\n",
       "    </tr>\n",
       "    <tr>\n",
       "      <th>14</th>\n",
       "      <td>df14</td>\n",
       "      <td>TBMthPH</td>\n",
       "    </tr>\n",
       "    <tr>\n",
       "      <th>15</th>\n",
       "      <td>df15</td>\n",
       "      <td>TBMthSG</td>\n",
       "    </tr>\n",
       "    <tr>\n",
       "      <th>16</th>\n",
       "      <td>df16</td>\n",
       "      <td>Blank</td>\n",
       "    </tr>\n",
       "    <tr>\n",
       "      <th>17</th>\n",
       "      <td>df17</td>\n",
       "      <td>BalanceSheetCons</td>\n",
       "    </tr>\n",
       "    <tr>\n",
       "      <th>18</th>\n",
       "      <td>df18</td>\n",
       "      <td>IncomeStatementCons</td>\n",
       "    </tr>\n",
       "    <tr>\n",
       "      <th>19</th>\n",
       "      <td>df19</td>\n",
       "      <td>Contact Class Table</td>\n",
       "    </tr>\n",
       "  </tbody>\n",
       "</table>\n",
       "</div>"
      ],
      "text/plain": [
       "     dfs               sheets\n",
       "0    df0            TBALL old\n",
       "1    df1                Forex\n",
       "2    df2             SharesFx\n",
       "3    df3            ZRHolding\n",
       "4    df4      TrialBalance_TH\n",
       "5    df5      TrialBalance_MY\n",
       "6    df6      TrialBalance_PH\n",
       "7    df7      TrialBalance_SG\n",
       "8    df8               ICElim\n",
       "9    df9         EUR SharesFx\n",
       "10  df10  ICElim (For Matrix)\n",
       "11  df11               AgedAP\n",
       "12  df12               AgedAR\n",
       "13  df13                 FXTA\n",
       "14  df14              TBMthPH\n",
       "15  df15              TBMthSG\n",
       "16  df16                Blank\n",
       "17  df17     BalanceSheetCons\n",
       "18  df18  IncomeStatementCons\n",
       "19  df19  Contact Class Table"
      ]
     },
     "execution_count": 32,
     "metadata": {},
     "output_type": "execute_result"
    }
   ],
   "source": [
    "pd.DataFrame(dfs,columns=list(['dfs','sheets']))"
   ]
  },
  {
   "cell_type": "markdown",
   "metadata": {},
   "source": [
    "## Balance Sheet\n",
    "\n",
    "\n",
    "- ** Original Soure **\n",
    "   * TrialBalanceMY\n",
    "   * TrialBalancePH\n",
    "   * TrialBalanceTH\n",
    "   * TrialBalanceSG\n",
    "   * TrialBalanceLX\n",
    "   \n",
    "   \n",
    "   * ```null``` to ```0```\n",
    "   * ```ConsEntityID``` = ```[EntityID]```\n",
    "   * Table to append ```ICELimination```\n",
    "   * ```Consolidated``` = ```\"CONSOLIDATED\"```\n",
    "   * ```PreConsolidationSort``` equals ```ENTITY``` then ```1``` else 2\n",
    "   * ```Contact``` = ```NULL```\n",
    "   * ** REMOVE ** ```LocAccountNo```  ```610``` or ```PreConsolidation``` != ```ENTITY```\n",
    "   * ** Appended ** the ```AgedAR```\n",
    "   * ** REMOVE ** ```LocAccountNo```  ```800``` or ```PreConsolidation``` != ```ENTITY```\n",
    "   * ** Appended ** the ```AgedAP```"
   ]
  },
  {
   "cell_type": "code",
   "execution_count": null,
   "metadata": {},
   "outputs": [],
   "source": []
  }
 ],
 "metadata": {
  "kernelspec": {
   "display_name": "Python 3",
   "language": "python",
   "name": "python3"
  },
  "language_info": {
   "codemirror_mode": {
    "name": "ipython",
    "version": 3
   },
   "file_extension": ".py",
   "mimetype": "text/x-python",
   "name": "python",
   "nbconvert_exporter": "python",
   "pygments_lexer": "ipython3",
   "version": "3.7.4"
  }
 },
 "nbformat": 4,
 "nbformat_minor": 2
}
