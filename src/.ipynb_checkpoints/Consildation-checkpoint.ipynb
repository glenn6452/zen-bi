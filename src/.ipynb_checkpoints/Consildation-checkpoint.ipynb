{
 "cells": [
  {
   "cell_type": "code",
   "execution_count": 1,
   "metadata": {},
   "outputs": [
    {
     "name": "stdout",
     "output_type": "stream",
     "text": [
      "Your browser has been opened to visit:\n",
      "\n",
      "    https://accounts.google.com/o/oauth2/auth?client_id=266644949229-rjrsktpm8oks7fi3mbgfj4np2b13dufo.apps.googleusercontent.com&redirect_uri=http%3A%2F%2Flocalhost%3A8080%2F&scope=https%3A%2F%2Fwww.googleapis.com%2Fauth%2Fdrive&access_type=offline&response_type=code\n",
      "\n",
      "Authentication successful.\n"
     ]
    }
   ],
   "source": [
    "#Consolidation\n",
    "from pydrive.auth import GoogleAuth\n",
    "from pydrive.drive import GoogleDrive\n",
    "import os\n",
    "import pandas as pd\n",
    "\n",
    "gauth = GoogleAuth()\n",
    "gauth.LocalWebserverAuth() # Creates local webserver and auto handles authentication.\n",
    "drive = GoogleDrive(gauth)"
   ]
  },
  {
   "cell_type": "code",
   "execution_count": 2,
   "metadata": {},
   "outputs": [],
   "source": [
    "drive = GoogleDrive(gauth)"
   ]
  },
  {
   "cell_type": "code",
   "execution_count": 3,
   "metadata": {},
   "outputs": [],
   "source": [
    "# choose a local (colab) directory to store the data.\n",
    "local_download_path = os.path.expanduser('drive/My Drive/Conso/')\n",
    "try:\n",
    "  os.makedirs(local_download_path)\n",
    "except: pass\n",
    "\n",
    "# 2. Auto-iterate using the query syntax\n",
    "#    https://developers.google.com/drive/v2/web/search-parameters\n",
    "\n",
    "file_list = drive.ListFile(\n",
    "    {'q': \"'1oOMl4eFnt4f8e1jNiNBzKLpLv3wdNLSE' in parents\"}).GetList()\n",
    "\n",
    "#file_list = file\n",
    "\n",
    "#id_touse = folder_list[0]['id']\n",
    "#\n",
    "#file_list = drive.ListFile(\n",
    "#    {'q': (\"\\'\"  + id_touse + \"\\' in parents\")}).GetList()"
   ]
  },
  {
   "cell_type": "code",
   "execution_count": null,
   "metadata": {},
   "outputs": [],
   "source": []
  },
  {
   "cell_type": "code",
   "execution_count": 9,
   "metadata": {
    "scrolled": false
   },
   "outputs": [
    {
     "data": {
      "text/plain": [
       "[GoogleDriveFile({'kind': 'drive#file', 'id': '1auThKC1m8VhPAr0IsR2CDUaAAC46_B7Qu9Si0DBs3JI', 'etag': '\"ZXXspOvee9TG5H8lRaVvxTvPmFI/MTU3OTE2MjIzNDQyNg\"', 'selfLink': 'https://www.googleapis.com/drive/v2/files/1auThKC1m8VhPAr0IsR2CDUaAAC46_B7Qu9Si0DBs3JI', 'alternateLink': 'https://docs.google.com/spreadsheets/d/1auThKC1m8VhPAr0IsR2CDUaAAC46_B7Qu9Si0DBs3JI/edit?usp=drivesdk', 'embedLink': 'https://docs.google.com/spreadsheets/d/1auThKC1m8VhPAr0IsR2CDUaAAC46_B7Qu9Si0DBs3JI/htmlembed?ouid=113775791897086033854', 'iconLink': 'https://drive-thirdparty.googleusercontent.com/16/type/application/vnd.google-apps.spreadsheet', 'thumbnailLink': 'https://docs.google.com/a/zenrooms.com/feeds/vt?gd=true&id=1auThKC1m8VhPAr0IsR2CDUaAAC46_B7Qu9Si0DBs3JI&v=4436&s=AMedNnoAAAAAXiFnPSUlssD4lbw0avaD7L2Eeku_LGq2&sz=s220', 'title': 'TrialBalance', 'mimeType': 'application/vnd.google-apps.spreadsheet', 'labels': {'starred': False, 'hidden': False, 'trashed': False, 'restricted': False, 'viewed': True}, 'copyRequiresWriterPermission': False, 'createdDate': '2019-03-18T09:55:10.703Z', 'modifiedDate': '2020-01-16T08:10:34.426Z', 'modifiedByMeDate': '2019-12-26T12:04:59.936Z', 'lastViewedByMeDate': '2020-01-17T02:46:16.523Z', 'markedViewedByMeDate': '1970-01-01T00:00:00.000Z', 'sharedWithMeDate': '2019-12-19T06:42:44.210Z', 'version': '6544', 'sharingUser': {'kind': 'drive#user', 'displayName': 'Nenibel Acabo', 'picture': {'url': 'https://lh3.googleusercontent.com/a-/AAuE7mAuDKCLtnXIE4AqJsqr4QOOba0oTPY56B_mben8=s64'}, 'isAuthenticatedUser': False, 'permissionId': '09836280201773483622', 'emailAddress': 'nenibel.acabo@zenrooms.com'}, 'parents': [{'kind': 'drive#parentReference', 'id': '1oOMl4eFnt4f8e1jNiNBzKLpLv3wdNLSE', 'selfLink': 'https://www.googleapis.com/drive/v2/files/1auThKC1m8VhPAr0IsR2CDUaAAC46_B7Qu9Si0DBs3JI/parents/1oOMl4eFnt4f8e1jNiNBzKLpLv3wdNLSE', 'parentLink': 'https://www.googleapis.com/drive/v2/files/1oOMl4eFnt4f8e1jNiNBzKLpLv3wdNLSE', 'isRoot': False}], 'exportLinks': {'application/x-vnd.oasis.opendocument.spreadsheet': 'https://docs.google.com/spreadsheets/export?id=1auThKC1m8VhPAr0IsR2CDUaAAC46_B7Qu9Si0DBs3JI&exportFormat=ods', 'text/tab-separated-values': 'https://docs.google.com/spreadsheets/export?id=1auThKC1m8VhPAr0IsR2CDUaAAC46_B7Qu9Si0DBs3JI&exportFormat=tsv', 'application/pdf': 'https://docs.google.com/spreadsheets/export?id=1auThKC1m8VhPAr0IsR2CDUaAAC46_B7Qu9Si0DBs3JI&exportFormat=pdf', 'application/vnd.openxmlformats-officedocument.spreadsheetml.sheet': 'https://docs.google.com/spreadsheets/export?id=1auThKC1m8VhPAr0IsR2CDUaAAC46_B7Qu9Si0DBs3JI&exportFormat=xlsx', 'text/csv': 'https://docs.google.com/spreadsheets/export?id=1auThKC1m8VhPAr0IsR2CDUaAAC46_B7Qu9Si0DBs3JI&exportFormat=csv', 'application/zip': 'https://docs.google.com/spreadsheets/export?id=1auThKC1m8VhPAr0IsR2CDUaAAC46_B7Qu9Si0DBs3JI&exportFormat=zip', 'application/vnd.oasis.opendocument.spreadsheet': 'https://docs.google.com/spreadsheets/export?id=1auThKC1m8VhPAr0IsR2CDUaAAC46_B7Qu9Si0DBs3JI&exportFormat=ods'}, 'userPermission': {'kind': 'drive#permission', 'etag': '\"ZXXspOvee9TG5H8lRaVvxTvPmFI/BxOezGCgiryP9nXefmYhL5y8uQI\"', 'id': 'me', 'selfLink': 'https://www.googleapis.com/drive/v2/files/1auThKC1m8VhPAr0IsR2CDUaAAC46_B7Qu9Si0DBs3JI/permissions/me', 'role': 'writer', 'type': 'user'}, 'quotaBytesUsed': '0', 'ownerNames': ['Reynaldson Aceberos'], 'owners': [{'kind': 'drive#user', 'displayName': 'Reynaldson Aceberos', 'isAuthenticatedUser': False, 'permissionId': '16744505411321656963', 'emailAddress': 'reynaldson.aceberos@zenrooms.com'}], 'lastModifyingUserName': 'Reynaldson Aceberos', 'lastModifyingUser': {'kind': 'drive#user', 'displayName': 'Reynaldson Aceberos', 'isAuthenticatedUser': False, 'permissionId': '16744505411321656963', 'emailAddress': 'reynaldson.aceberos@zenrooms.com'}, 'capabilities': {'canCopy': True, 'canEdit': True}, 'editable': True, 'copyable': True, 'writersCanShare': True, 'shared': True, 'explicitlyTrashed': False, 'appDataContents': False, 'spaces': ['drive']})]"
      ]
     },
     "execution_count": 9,
     "metadata": {},
     "output_type": "execute_result"
    }
   ],
   "source": [
    "file = []\n",
    "for f in file_list:\n",
    "  if f['id'] == '1auThKC1m8VhPAr0IsR2CDUaAAC46_B7Qu9Si0DBs3JI':\n",
    "    file.append(f)\n",
    "  else:\n",
    "    None\n",
    "file"
   ]
  },
  {
   "cell_type": "code",
   "execution_count": 10,
   "metadata": {},
   "outputs": [],
   "source": [
    "#pd.DataFrame(folder_list)"
   ]
  },
  {
   "cell_type": "code",
   "execution_count": 11,
   "metadata": {},
   "outputs": [],
   "source": [
    "#pd.read_excel()"
   ]
  },
  {
   "cell_type": "code",
   "execution_count": 12,
   "metadata": {},
   "outputs": [],
   "source": [
    "#mimetypes = {\n",
    "#        # Drive Document files as PDF\n",
    "#        'application/vnd.google-apps.document': 'application/pdf',\n",
    "#\n",
    "#        # Drive Sheets files as MS Excel files.\n",
    "#        'application/vnd.google-apps.spreadsheet': 'application/vnd.openxmlformats-officedocument.spreadsheetml.sheet'\n",
    "#\n",
    "#    # see https://developers.google.com/drive/v3/web/mime-types\n",
    "#    }\n",
    "#\n",
    "#\n",
    "#file = ['TrialBalance']\n",
    "#for f in file_list:\n",
    "#  # 3. Create & download by id.\n",
    "#  print('title: %s, id: %s' % (f['title'], f['id']))\n",
    "#  fname = os.path.join(local_download_path, f['title'])\n",
    "#  print('downloading to {}'.format(fname))\n",
    "#  f_ = drive.CreateFile({'id': '1auThKC1m8VhPAr0IsR2CDUaAAC46_B7Qu9Si0DBs3JI'})\n",
    "#  f_.GetContentFile(fname)\n",
    "#  files.append(fname)\n",
    "#\n",
    "##files.remove('drive/My Drive/Reviews/Promo Codes - Last view used.xlsx')"
   ]
  },
  {
   "cell_type": "code",
   "execution_count": 13,
   "metadata": {},
   "outputs": [
    {
     "name": "stdout",
     "output_type": "stream",
     "text": [
      "TrialBalance\n",
      "title: TrialBalance, mimeType: application/vnd.google-apps.spreadsheet\n"
     ]
    }
   ],
   "source": [
    "for item in file:\n",
    "    print(item['title'])\n",
    "    # this should tell you which mimetype the file you're trying to download \n",
    "    # has. \n",
    "    print('title: %s, mimeType: %s' % (item['title'], item['mimeType']))\n",
    "    mimetypes = {\n",
    "        # Drive Document files as PDF\n",
    "        'application/vnd.google-apps.document': 'application/pdf',\n",
    "\n",
    "        # Drive Sheets files as MS Excel files.\n",
    "        'application/vnd.google-apps.spreadsheet': 'application/vnd.openxmlformats-officedocument.spreadsheetml.sheet'\n",
    "\n",
    "    # see https://developers.google.com/drive/v3/web/mim0e-types\n",
    "    }\n",
    "    download_mimetype = None\n",
    "    if item['mimeType'] in mimetypes:\n",
    "        download_mimetype = mimetypes[item['mimeType']]\n",
    "        item.GetContentFile(os.path.join(local_download_path,item['title']+'.xlsx'), mimetype=download_mimetype)\n",
    "\n",
    "        #item.GetContentFile(item['title'], mimetype=download_mimetype)\n",
    "    else: \n",
    "        item.GetContentFile(os.path.join(local_download_path,item['title']))"
   ]
  },
  {
   "cell_type": "code",
   "execution_count": 115,
   "metadata": {},
   "outputs": [],
   "source": [
    "#files"
   ]
  },
  {
   "cell_type": "code",
   "execution_count": 116,
   "metadata": {},
   "outputs": [],
   "source": [
    "#appended_data = []\n",
    "#for infile in files:\n",
    "#    data = pd.read_excel(infile)\n",
    "#    # store DataFrame in list\n",
    "#    appended_data.append(data)\n",
    "## see pd.concat documentation for more info\n",
    "#appended_data = pd.concat(appended_data)\n",
    "## write DataFrame to an excel sheet \n",
    "##appended_data.to_excel('drive/My Drive/Reviews_Final/Merged_Reviews.xlsx')"
   ]
  },
  {
   "cell_type": "code",
   "execution_count": 146,
   "metadata": {},
   "outputs": [],
   "source": [
    "xls = pd.ExcelFile(os.path.join(local_download_path,'TrialBalance.xlsx'))"
   ]
  },
  {
   "cell_type": "code",
   "execution_count": 149,
   "metadata": {},
   "outputs": [],
   "source": [
    "sheets = xls.sheet_names"
   ]
  },
  {
   "cell_type": "code",
   "execution_count": 166,
   "metadata": {},
   "outputs": [],
   "source": [
    "dfs = []\n",
    "for i in range(len(sheets)):\n",
    "    globals()['df'+str(i)] = pd.read_excel(xls,sheets[i])\n",
    "    dfs.append(('df'+str(i),sheets[i]))\n",
    "    \n",
    "\n",
    "#df1 = pd.read_excel(xls, 'Sheet1')\n",
    "#df2 = pd.read_excel(xls, 'Sheet2')"
   ]
  },
  {
   "cell_type": "code",
   "execution_count": 169,
   "metadata": {},
   "outputs": [
    {
     "data": {
      "text/html": [
       "<div>\n",
       "<style scoped>\n",
       "    .dataframe tbody tr th:only-of-type {\n",
       "        vertical-align: middle;\n",
       "    }\n",
       "\n",
       "    .dataframe tbody tr th {\n",
       "        vertical-align: top;\n",
       "    }\n",
       "\n",
       "    .dataframe thead th {\n",
       "        text-align: right;\n",
       "    }\n",
       "</style>\n",
       "<table border=\"1\" class=\"dataframe\">\n",
       "  <thead>\n",
       "    <tr style=\"text-align: right;\">\n",
       "      <th></th>\n",
       "      <th>dfs</th>\n",
       "      <th>sheets</th>\n",
       "    </tr>\n",
       "  </thead>\n",
       "  <tbody>\n",
       "    <tr>\n",
       "      <th>0</th>\n",
       "      <td>df0</td>\n",
       "      <td>TBALL old</td>\n",
       "    </tr>\n",
       "    <tr>\n",
       "      <th>1</th>\n",
       "      <td>df1</td>\n",
       "      <td>Forex</td>\n",
       "    </tr>\n",
       "    <tr>\n",
       "      <th>2</th>\n",
       "      <td>df2</td>\n",
       "      <td>SharesFx</td>\n",
       "    </tr>\n",
       "    <tr>\n",
       "      <th>3</th>\n",
       "      <td>df3</td>\n",
       "      <td>ZRHolding</td>\n",
       "    </tr>\n",
       "    <tr>\n",
       "      <th>4</th>\n",
       "      <td>df4</td>\n",
       "      <td>TrialBalance_TH</td>\n",
       "    </tr>\n",
       "    <tr>\n",
       "      <th>5</th>\n",
       "      <td>df5</td>\n",
       "      <td>TrialBalance_MY</td>\n",
       "    </tr>\n",
       "    <tr>\n",
       "      <th>6</th>\n",
       "      <td>df6</td>\n",
       "      <td>TrialBalance_PH</td>\n",
       "    </tr>\n",
       "    <tr>\n",
       "      <th>7</th>\n",
       "      <td>df7</td>\n",
       "      <td>TrialBalance_SG</td>\n",
       "    </tr>\n",
       "    <tr>\n",
       "      <th>8</th>\n",
       "      <td>df8</td>\n",
       "      <td>ICElim</td>\n",
       "    </tr>\n",
       "    <tr>\n",
       "      <th>9</th>\n",
       "      <td>df9</td>\n",
       "      <td>EUR SharesFx</td>\n",
       "    </tr>\n",
       "    <tr>\n",
       "      <th>10</th>\n",
       "      <td>df10</td>\n",
       "      <td>ICElim (For Matrix)</td>\n",
       "    </tr>\n",
       "    <tr>\n",
       "      <th>11</th>\n",
       "      <td>df11</td>\n",
       "      <td>AgedAP</td>\n",
       "    </tr>\n",
       "    <tr>\n",
       "      <th>12</th>\n",
       "      <td>df12</td>\n",
       "      <td>AgedAR</td>\n",
       "    </tr>\n",
       "    <tr>\n",
       "      <th>13</th>\n",
       "      <td>df13</td>\n",
       "      <td>FXTA</td>\n",
       "    </tr>\n",
       "    <tr>\n",
       "      <th>14</th>\n",
       "      <td>df14</td>\n",
       "      <td>TBMthPH</td>\n",
       "    </tr>\n",
       "    <tr>\n",
       "      <th>15</th>\n",
       "      <td>df15</td>\n",
       "      <td>TBMthSG</td>\n",
       "    </tr>\n",
       "    <tr>\n",
       "      <th>16</th>\n",
       "      <td>df16</td>\n",
       "      <td>Blank</td>\n",
       "    </tr>\n",
       "    <tr>\n",
       "      <th>17</th>\n",
       "      <td>df17</td>\n",
       "      <td>BalanceSheetCons</td>\n",
       "    </tr>\n",
       "    <tr>\n",
       "      <th>18</th>\n",
       "      <td>df18</td>\n",
       "      <td>IncomeStatementCons</td>\n",
       "    </tr>\n",
       "    <tr>\n",
       "      <th>19</th>\n",
       "      <td>df19</td>\n",
       "      <td>Contact Class Table</td>\n",
       "    </tr>\n",
       "  </tbody>\n",
       "</table>\n",
       "</div>"
      ],
      "text/plain": [
       "     dfs               sheets\n",
       "0    df0            TBALL old\n",
       "1    df1                Forex\n",
       "2    df2             SharesFx\n",
       "3    df3            ZRHolding\n",
       "4    df4      TrialBalance_TH\n",
       "5    df5      TrialBalance_MY\n",
       "6    df6      TrialBalance_PH\n",
       "7    df7      TrialBalance_SG\n",
       "8    df8               ICElim\n",
       "9    df9         EUR SharesFx\n",
       "10  df10  ICElim (For Matrix)\n",
       "11  df11               AgedAP\n",
       "12  df12               AgedAR\n",
       "13  df13                 FXTA\n",
       "14  df14              TBMthPH\n",
       "15  df15              TBMthSG\n",
       "16  df16                Blank\n",
       "17  df17     BalanceSheetCons\n",
       "18  df18  IncomeStatementCons\n",
       "19  df19  Contact Class Table"
      ]
     },
     "execution_count": 169,
     "metadata": {},
     "output_type": "execute_result"
    }
   ],
   "source": [
    "pd.DataFrame(dfs,columns=list(['dfs','sheets']))"
   ]
  },
  {
   "cell_type": "markdown",
   "metadata": {},
   "source": [
    "## Balance Sheet\n",
    "\n",
    "\n",
    "- ** Original Soure **\n",
    "   * TrialBalanceMY\n",
    "   * TrialBalancePH\n",
    "   * TrialBalanceTH\n",
    "   * TrialBalanceSG\n",
    "   * TrialBalanceLX\n",
    "   \n",
    "   \n",
    "   * ```null``` to ```0```\n",
    "   * ```ConsEntityID``` = ```[EntityID]```\n",
    "   * Table to append ```ICELimination```\n",
    "   * ```Consolidated``` = ```\"CONSOLIDATED\"```\n",
    "   * ```PreConsolidationSort``` equals ```ENTITY``` then ```1``` else 2\n",
    "   * ```Contact``` = ```NULL```\n",
    "   * ** REMOVE ** ```LocAccountNo```  ```610``` or ```PreConsolidation``` != ```ENTITY```\n",
    "   * ** Appended ** the ```AgedAR```\n",
    "   * ** REMOVE ** ```LocAccountNo```  ```800``` or ```PreConsolidation``` != ```ENTITY```\n",
    "   * ** Appended ** the ```AgedAP```"
   ]
  },
  {
   "cell_type": "code",
   "execution_count": null,
   "metadata": {},
   "outputs": [],
   "source": []
  }
 ],
 "metadata": {
  "kernelspec": {
   "display_name": "Python 3",
   "language": "python",
   "name": "python3"
  },
  "language_info": {
   "codemirror_mode": {
    "name": "ipython",
    "version": 3
   },
   "file_extension": ".py",
   "mimetype": "text/x-python",
   "name": "python",
   "nbconvert_exporter": "python",
   "pygments_lexer": "ipython3",
   "version": "3.7.4"
  }
 },
 "nbformat": 4,
 "nbformat_minor": 2
}
